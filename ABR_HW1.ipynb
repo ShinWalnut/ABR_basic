{
  "nbformat": 4,
  "nbformat_minor": 0,
  "metadata": {
    "colab": {
      "name": "ABR_HW1.ipynb",
      "version": "0.3.2",
      "provenance": [],
      "include_colab_link": true
    },
    "kernelspec": {
      "name": "python3",
      "display_name": "Python 3"
    }
  },
  "cells": [
    {
      "cell_type": "markdown",
      "metadata": {
        "id": "view-in-github",
        "colab_type": "text"
      },
      "source": [
        "<a href=\"https://colab.research.google.com/github/ShinWalnut/ABR_basic/blob/master/ABR_HW1.ipynb\" target=\"_parent\"><img src=\"https://colab.research.google.com/assets/colab-badge.svg\" alt=\"Open In Colab\"/></a>"
      ]
    },
    {
      "metadata": {
        "id": "BQelK8C5yNEC",
        "colab_type": "code",
        "colab": {}
      },
      "cell_type": "code",
      "source": [
        "import tensorflow as tf\n",
        "import numpy as np"
      ],
      "execution_count": 0,
      "outputs": []
    },
    {
      "metadata": {
        "id": "2SH0LXmKyS3R",
        "colab_type": "code",
        "colab": {
          "base_uri": "https://localhost:8080/",
          "height": 34
        },
        "outputId": "12d0ea3c-6de3-4673-d872-d09502748a63"
      },
      "cell_type": "code",
      "source": [
        "gugu2 = np.array(list(map(int, input().split()))).reshape(-1,1)\n",
        "gugu1 = np.arange(2,10).reshape(-1,1)\n",
        "dan = np.arange(1,10).reshape(1,-1)"
      ],
      "execution_count": 13,
      "outputs": [
        {
          "output_type": "stream",
          "text": [
            "4 2 6 9\n"
          ],
          "name": "stdout"
        }
      ]
    },
    {
      "metadata": {
        "id": "8nFf-qg86YG0",
        "colab_type": "code",
        "colab": {}
      },
      "cell_type": "code",
      "source": [
        "X=tf.placeholder(dtype=tf.float32, shape=(None,1), name=\"gugu\")\n",
        "Y=tf.constant(dan, dtype=tf.float32, name=\"dan\")\n",
        "gugudan = X*Y"
      ],
      "execution_count": 0,
      "outputs": []
    },
    {
      "metadata": {
        "id": "OXZ07djh7aNs",
        "colab_type": "code",
        "colab": {
          "base_uri": "https://localhost:8080/",
          "height": 263
        },
        "outputId": "9c247cb6-7902-485d-bfd9-a424303d7552"
      },
      "cell_type": "code",
      "source": [
        "with tf.Session() as sess:\n",
        "  print(\"HW1-1 구구단\\n\", sess.run(gugudan, feed_dict={X: gugu1}))\n",
        "  print(\"HW1-2 입력 한 수\\n\", sess.run(gugudan, feed_dict={X: gugu2}))"
      ],
      "execution_count": 15,
      "outputs": [
        {
          "output_type": "stream",
          "text": [
            "HW1-1 구구단\n",
            " [[ 2.  4.  6.  8. 10. 12. 14. 16. 18.]\n",
            " [ 3.  6.  9. 12. 15. 18. 21. 24. 27.]\n",
            " [ 4.  8. 12. 16. 20. 24. 28. 32. 36.]\n",
            " [ 5. 10. 15. 20. 25. 30. 35. 40. 45.]\n",
            " [ 6. 12. 18. 24. 30. 36. 42. 48. 54.]\n",
            " [ 7. 14. 21. 28. 35. 42. 49. 56. 63.]\n",
            " [ 8. 16. 24. 32. 40. 48. 56. 64. 72.]\n",
            " [ 9. 18. 27. 36. 45. 54. 63. 72. 81.]]\n",
            "HW1-2 입력 한 수\n",
            " [[ 4.  8. 12. 16. 20. 24. 28. 32. 36.]\n",
            " [ 2.  4.  6.  8. 10. 12. 14. 16. 18.]\n",
            " [ 6. 12. 18. 24. 30. 36. 42. 48. 54.]\n",
            " [ 9. 18. 27. 36. 45. 54. 63. 72. 81.]]\n"
          ],
          "name": "stdout"
        }
      ]
    },
    {
      "metadata": {
        "id": "yRulfYDD7_07",
        "colab_type": "code",
        "colab": {}
      },
      "cell_type": "code",
      "source": [
        ""
      ],
      "execution_count": 0,
      "outputs": []
    }
  ]
}